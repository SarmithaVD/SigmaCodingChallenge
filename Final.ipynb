{
 "cells": [
  {
   "cell_type": "markdown",
   "id": "b350c654-f90c-4b81-906c-bd74a9364c02",
   "metadata": {},
   "source": [
    "Import Statements"
   ]
  },
  {
   "cell_type": "code",
   "execution_count": 1,
   "id": "9e5ad92b-98dc-41de-93b0-f830b2d5b449",
   "metadata": {
    "tags": []
   },
   "outputs": [],
   "source": [
    "from quantrocket.license import set_license\n",
    "from quantrocket.history import create_usstock_db, collect_history\n",
    "from quantrocket.master import create_universe, get_securities\n",
    "from quantrocket import get_prices\n",
    "import pandas as pd"
   ]
  },
  {
   "cell_type": "markdown",
   "id": "30bb601c-d480-4d63-ac65-cd2362755ccd",
   "metadata": {},
   "source": [
    "License Key"
   ]
  },
  {
   "cell_type": "code",
   "execution_count": 2,
   "id": "32c5f47b-c880-4174-bd09-673738741054",
   "metadata": {
    "tags": []
   },
   "outputs": [
    {
     "data": {
      "text/plain": [
       "{'licensekey': 'eb9e........06a3', 'software_license': {}}"
      ]
     },
     "execution_count": 2,
     "metadata": {},
     "output_type": "execute_result"
    }
   ],
   "source": [
    "set_license(\"eb9e3a59-de27-11ee-b787-f1b66bdc06a3\")"
   ]
  },
  {
   "cell_type": "markdown",
   "id": "99c700df-c843-404e-89db-030c67d3f811",
   "metadata": {},
   "source": [
    "Universe Creation"
   ]
  },
  {
   "cell_type": "code",
   "execution_count": 3,
   "id": "372fbd15-9c44-4c2a-afe7-de4854e7758e",
   "metadata": {
    "tags": []
   },
   "outputs": [
    {
     "data": {
      "text/plain": [
       "{'code': 'apple', 'provided': 1, 'inserted': 1, 'total_after_insert': 1}"
      ]
     },
     "execution_count": 3,
     "metadata": {},
     "output_type": "execute_result"
    }
   ],
   "source": [
    "create_universe(\"apple\", sids=[\"FIBBG000B9XRY4\"])"
   ]
  },
  {
   "cell_type": "markdown",
   "id": "9f792299-46f4-49e6-9d02-18884e67213a",
   "metadata": {},
   "source": [
    "History Database Creation"
   ]
  },
  {
   "cell_type": "code",
   "execution_count": 4,
   "id": "2161fac5-4e62-450c-bf81-f90efbc78c62",
   "metadata": {
    "tags": []
   },
   "outputs": [
    {
     "data": {
      "text/plain": [
       "{'status': 'successfully created quantrocket.v2.history.apple-1d.sqlite'}"
      ]
     },
     "execution_count": 4,
     "metadata": {},
     "output_type": "execute_result"
    }
   ],
   "source": [
    "create_usstock_db(\"apple-1d\", bar_size=\"1 day\", free=True)"
   ]
  },
  {
   "cell_type": "markdown",
   "id": "0b3c0a0c-f813-43ad-b7d9-bcbeb62617df",
   "metadata": {},
   "source": [
    "History Data Collection"
   ]
  },
  {
   "cell_type": "code",
   "execution_count": 5,
   "id": "79d8d63f-f535-433b-a986-11beb67ea506",
   "metadata": {
    "tags": []
   },
   "outputs": [
    {
     "data": {
      "text/plain": [
       "{'status': 'the historical data will be collected asynchronously'}"
      ]
     },
     "execution_count": 5,
     "metadata": {},
     "output_type": "execute_result"
    }
   ],
   "source": [
    "collect_history(\"aapl\")"
   ]
  },
  {
   "cell_type": "markdown",
   "id": "9bbd0b0f-a734-42af-b8ca-3939e794b261",
   "metadata": {},
   "source": [
    "Securities Collection"
   ]
  },
  {
   "cell_type": "code",
   "execution_count": 6,
   "id": "3a59f310-f518-48d0-88d3-830d6d960028",
   "metadata": {
    "tags": []
   },
   "outputs": [],
   "source": [
    "securities = get_securities(vendors=\"usstock\", sec_types=\"STK\")"
   ]
  },
  {
   "cell_type": "code",
   "execution_count": 7,
   "id": "99390797-c907-4023-bf32-cc9837b0222b",
   "metadata": {
    "tags": []
   },
   "outputs": [
    {
     "data": {
      "text/html": [
       "<div>\n",
       "<style scoped>\n",
       "    .dataframe tbody tr th:only-of-type {\n",
       "        vertical-align: middle;\n",
       "    }\n",
       "\n",
       "    .dataframe tbody tr th {\n",
       "        vertical-align: top;\n",
       "    }\n",
       "\n",
       "    .dataframe thead th {\n",
       "        text-align: right;\n",
       "    }\n",
       "</style>\n",
       "<table border=\"1\" class=\"dataframe\">\n",
       "  <thead>\n",
       "    <tr style=\"text-align: right;\">\n",
       "      <th></th>\n",
       "      <th>Symbol</th>\n",
       "      <th>Exchange</th>\n",
       "      <th>Country</th>\n",
       "      <th>Currency</th>\n",
       "      <th>SecType</th>\n",
       "      <th>Etf</th>\n",
       "      <th>Timezone</th>\n",
       "      <th>Name</th>\n",
       "      <th>PriceMagnifier</th>\n",
       "      <th>Multiplier</th>\n",
       "      <th>Delisted</th>\n",
       "      <th>DateDelisted</th>\n",
       "      <th>LastTradeDate</th>\n",
       "      <th>RolloverDate</th>\n",
       "    </tr>\n",
       "    <tr>\n",
       "      <th>Sid</th>\n",
       "      <th></th>\n",
       "      <th></th>\n",
       "      <th></th>\n",
       "      <th></th>\n",
       "      <th></th>\n",
       "      <th></th>\n",
       "      <th></th>\n",
       "      <th></th>\n",
       "      <th></th>\n",
       "      <th></th>\n",
       "      <th></th>\n",
       "      <th></th>\n",
       "      <th></th>\n",
       "      <th></th>\n",
       "    </tr>\n",
       "  </thead>\n",
       "  <tbody>\n",
       "    <tr>\n",
       "      <th>FIBBG000B9XRY4</th>\n",
       "      <td>AAPL</td>\n",
       "      <td>XNAS</td>\n",
       "      <td>US</td>\n",
       "      <td>USD</td>\n",
       "      <td>STK</td>\n",
       "      <td>False</td>\n",
       "      <td>America/New_York</td>\n",
       "      <td>APPLE INC</td>\n",
       "      <td>1</td>\n",
       "      <td>1</td>\n",
       "      <td>False</td>\n",
       "      <td>NaT</td>\n",
       "      <td>NaT</td>\n",
       "      <td>NaT</td>\n",
       "    </tr>\n",
       "    <tr>\n",
       "      <th>FIBBG000BFWKC0</th>\n",
       "      <td>MON</td>\n",
       "      <td>XNYS</td>\n",
       "      <td>US</td>\n",
       "      <td>USD</td>\n",
       "      <td>STK</td>\n",
       "      <td>False</td>\n",
       "      <td>America/New_York</td>\n",
       "      <td>MONSANTO CO</td>\n",
       "      <td>1</td>\n",
       "      <td>1</td>\n",
       "      <td>True</td>\n",
       "      <td>2018-06-06</td>\n",
       "      <td>NaT</td>\n",
       "      <td>NaT</td>\n",
       "    </tr>\n",
       "    <tr>\n",
       "      <th>FIBBG000BKZB36</th>\n",
       "      <td>HD</td>\n",
       "      <td>XNYS</td>\n",
       "      <td>US</td>\n",
       "      <td>USD</td>\n",
       "      <td>STK</td>\n",
       "      <td>False</td>\n",
       "      <td>America/New_York</td>\n",
       "      <td>HOME DEPOT INC</td>\n",
       "      <td>1</td>\n",
       "      <td>1</td>\n",
       "      <td>False</td>\n",
       "      <td>NaT</td>\n",
       "      <td>NaT</td>\n",
       "      <td>NaT</td>\n",
       "    </tr>\n",
       "    <tr>\n",
       "      <th>FIBBG000BMHYD1</th>\n",
       "      <td>JNJ</td>\n",
       "      <td>XNYS</td>\n",
       "      <td>US</td>\n",
       "      <td>USD</td>\n",
       "      <td>STK</td>\n",
       "      <td>False</td>\n",
       "      <td>America/New_York</td>\n",
       "      <td>JOHNSON &amp; JOHNSON</td>\n",
       "      <td>1</td>\n",
       "      <td>1</td>\n",
       "      <td>False</td>\n",
       "      <td>NaT</td>\n",
       "      <td>NaT</td>\n",
       "      <td>NaT</td>\n",
       "    </tr>\n",
       "    <tr>\n",
       "      <th>FIBBG000BPH459</th>\n",
       "      <td>MSFT</td>\n",
       "      <td>XNAS</td>\n",
       "      <td>US</td>\n",
       "      <td>USD</td>\n",
       "      <td>STK</td>\n",
       "      <td>False</td>\n",
       "      <td>America/New_York</td>\n",
       "      <td>MICROSOFT CORP</td>\n",
       "      <td>1</td>\n",
       "      <td>1</td>\n",
       "      <td>False</td>\n",
       "      <td>NaT</td>\n",
       "      <td>NaT</td>\n",
       "      <td>NaT</td>\n",
       "    </tr>\n",
       "  </tbody>\n",
       "</table>\n",
       "</div>"
      ],
      "text/plain": [
       "               Symbol Exchange Country Currency SecType    Etf  \\\n",
       "Sid                                                              \n",
       "FIBBG000B9XRY4   AAPL     XNAS      US      USD     STK  False   \n",
       "FIBBG000BFWKC0    MON     XNYS      US      USD     STK  False   \n",
       "FIBBG000BKZB36     HD     XNYS      US      USD     STK  False   \n",
       "FIBBG000BMHYD1    JNJ     XNYS      US      USD     STK  False   \n",
       "FIBBG000BPH459   MSFT     XNAS      US      USD     STK  False   \n",
       "\n",
       "                        Timezone               Name  PriceMagnifier  \\\n",
       "Sid                                                                   \n",
       "FIBBG000B9XRY4  America/New_York          APPLE INC               1   \n",
       "FIBBG000BFWKC0  America/New_York        MONSANTO CO               1   \n",
       "FIBBG000BKZB36  America/New_York     HOME DEPOT INC               1   \n",
       "FIBBG000BMHYD1  America/New_York  JOHNSON & JOHNSON               1   \n",
       "FIBBG000BPH459  America/New_York     MICROSOFT CORP               1   \n",
       "\n",
       "                Multiplier  Delisted DateDelisted LastTradeDate RolloverDate  \n",
       "Sid                                                                           \n",
       "FIBBG000B9XRY4           1     False          NaT           NaT          NaT  \n",
       "FIBBG000BFWKC0           1      True   2018-06-06           NaT          NaT  \n",
       "FIBBG000BKZB36           1     False          NaT           NaT          NaT  \n",
       "FIBBG000BMHYD1           1     False          NaT           NaT          NaT  \n",
       "FIBBG000BPH459           1     False          NaT           NaT          NaT  "
      ]
     },
     "execution_count": 7,
     "metadata": {},
     "output_type": "execute_result"
    }
   ],
   "source": [
    "securities.head()"
   ]
  },
  {
   "cell_type": "markdown",
   "id": "03892dcb-07ce-4df3-838e-58f1eef5d329",
   "metadata": {},
   "source": [
    "Prices Data\n",
    "\n",
    "Daily close price data of APPLE Stock for the year 2023"
   ]
  },
  {
   "cell_type": "code",
   "execution_count": 8,
   "id": "c0794d64-07fb-4987-83df-9f0a6c3e860d",
   "metadata": {
    "tags": []
   },
   "outputs": [],
   "source": [
    "prices = get_prices(\"aapl\", sids=[\"FIBBG000B9XRY4\"], start_date=\"2023-01-01\", end_date=\"2023-12-31\", fields=[\"Close\"])"
   ]
  },
  {
   "cell_type": "code",
   "execution_count": 9,
   "id": "7a438dc6-ff24-4b92-8b41-21b751ae1874",
   "metadata": {
    "tags": []
   },
   "outputs": [
    {
     "data": {
      "text/html": [
       "<div>\n",
       "<style scoped>\n",
       "    .dataframe tbody tr th:only-of-type {\n",
       "        vertical-align: middle;\n",
       "    }\n",
       "\n",
       "    .dataframe tbody tr th {\n",
       "        vertical-align: top;\n",
       "    }\n",
       "\n",
       "    .dataframe thead th {\n",
       "        text-align: right;\n",
       "    }\n",
       "</style>\n",
       "<table border=\"1\" class=\"dataframe\">\n",
       "  <thead>\n",
       "    <tr style=\"text-align: right;\">\n",
       "      <th></th>\n",
       "      <th>Sid</th>\n",
       "      <th>FIBBG000B9XRY4</th>\n",
       "    </tr>\n",
       "    <tr>\n",
       "      <th>Field</th>\n",
       "      <th>Date</th>\n",
       "      <th></th>\n",
       "    </tr>\n",
       "  </thead>\n",
       "  <tbody>\n",
       "    <tr>\n",
       "      <th rowspan=\"5\" valign=\"top\">Close</th>\n",
       "      <th>2023-01-03</th>\n",
       "      <td>124.2163</td>\n",
       "    </tr>\n",
       "    <tr>\n",
       "      <th>2023-01-04</th>\n",
       "      <td>125.4975</td>\n",
       "    </tr>\n",
       "    <tr>\n",
       "      <th>2023-01-05</th>\n",
       "      <td>124.1666</td>\n",
       "    </tr>\n",
       "    <tr>\n",
       "      <th>2023-01-06</th>\n",
       "      <td>128.7352</td>\n",
       "    </tr>\n",
       "    <tr>\n",
       "      <th>2023-01-09</th>\n",
       "      <td>129.2616</td>\n",
       "    </tr>\n",
       "  </tbody>\n",
       "</table>\n",
       "</div>"
      ],
      "text/plain": [
       "Sid               FIBBG000B9XRY4\n",
       "Field Date                      \n",
       "Close 2023-01-03        124.2163\n",
       "      2023-01-04        125.4975\n",
       "      2023-01-05        124.1666\n",
       "      2023-01-06        128.7352\n",
       "      2023-01-09        129.2616"
      ]
     },
     "execution_count": 9,
     "metadata": {},
     "output_type": "execute_result"
    }
   ],
   "source": [
    "prices.head()"
   ]
  },
  {
   "cell_type": "markdown",
   "id": "2d409842-b3f5-47d9-b0cd-67912008dd90",
   "metadata": {},
   "source": [
    "Pandas Dataframe Creation"
   ]
  },
  {
   "cell_type": "code",
   "execution_count": 10,
   "id": "67b1eaa6-49ed-4fe3-9bdb-bbd014e73e37",
   "metadata": {
    "tags": []
   },
   "outputs": [],
   "source": [
    "prices = prices['FIBBG000B9XRY4']['Close'].to_list()\n",
    "closes_df = pd.DataFrame({'Close': prices})"
   ]
  },
  {
   "cell_type": "markdown",
   "id": "0e8590c4-efca-4695-b88c-10245975db3f",
   "metadata": {
    "tags": []
   },
   "source": [
    "Returns Calculation"
   ]
  },
  {
   "cell_type": "code",
   "execution_count": 12,
   "id": "a1921185-478a-4a85-8730-dff2de1f214a",
   "metadata": {
    "tags": []
   },
   "outputs": [],
   "source": [
    "closes_df['Returns'] = closes_df.pct_change()"
   ]
  },
  {
   "cell_type": "markdown",
   "id": "9a3031f6-38a8-433f-a6a1-ed93e77dc20b",
   "metadata": {
    "tags": []
   },
   "source": [
    "States Classification"
   ]
  },
  {
   "cell_type": "code",
   "execution_count": 14,
   "id": "8db4d9da-cb51-4c85-8b43-e2847d4ea53f",
   "metadata": {
    "tags": []
   },
   "outputs": [],
   "source": [
    "def classify_state(r):\n",
    "    if r >= 0.01:\n",
    "        return 1  # Bull\n",
    "    elif r > -0.01:\n",
    "        return 0  # Flat\n",
    "    else:\n",
    "        return -1  # Bear\n",
    "\n",
    "closes_df['State'] = closes_df['Returns'].apply(classify_state)"
   ]
  },
  {
   "cell_type": "code",
   "execution_count": 15,
   "id": "6468e246-0785-414b-8cef-76cd4c33d622",
   "metadata": {
    "tags": []
   },
   "outputs": [
    {
     "data": {
      "text/html": [
       "<div>\n",
       "<style scoped>\n",
       "    .dataframe tbody tr th:only-of-type {\n",
       "        vertical-align: middle;\n",
       "    }\n",
       "\n",
       "    .dataframe tbody tr th {\n",
       "        vertical-align: top;\n",
       "    }\n",
       "\n",
       "    .dataframe thead th {\n",
       "        text-align: right;\n",
       "    }\n",
       "</style>\n",
       "<table border=\"1\" class=\"dataframe\">\n",
       "  <thead>\n",
       "    <tr style=\"text-align: right;\">\n",
       "      <th></th>\n",
       "      <th>Close</th>\n",
       "      <th>Returns</th>\n",
       "      <th>State</th>\n",
       "    </tr>\n",
       "  </thead>\n",
       "  <tbody>\n",
       "    <tr>\n",
       "      <th>0</th>\n",
       "      <td>124.2163</td>\n",
       "      <td>NaN</td>\n",
       "      <td>-1</td>\n",
       "    </tr>\n",
       "    <tr>\n",
       "      <th>1</th>\n",
       "      <td>125.4975</td>\n",
       "      <td>0.010314</td>\n",
       "      <td>1</td>\n",
       "    </tr>\n",
       "    <tr>\n",
       "      <th>2</th>\n",
       "      <td>124.1666</td>\n",
       "      <td>-0.010605</td>\n",
       "      <td>-1</td>\n",
       "    </tr>\n",
       "    <tr>\n",
       "      <th>3</th>\n",
       "      <td>128.7352</td>\n",
       "      <td>0.036794</td>\n",
       "      <td>1</td>\n",
       "    </tr>\n",
       "    <tr>\n",
       "      <th>4</th>\n",
       "      <td>129.2616</td>\n",
       "      <td>0.004089</td>\n",
       "      <td>0</td>\n",
       "    </tr>\n",
       "    <tr>\n",
       "      <th>...</th>\n",
       "      <td>...</td>\n",
       "      <td>...</td>\n",
       "      <td>...</td>\n",
       "    </tr>\n",
       "    <tr>\n",
       "      <th>245</th>\n",
       "      <td>193.3533</td>\n",
       "      <td>-0.005547</td>\n",
       "      <td>0</td>\n",
       "    </tr>\n",
       "    <tr>\n",
       "      <th>246</th>\n",
       "      <td>192.8040</td>\n",
       "      <td>-0.002841</td>\n",
       "      <td>0</td>\n",
       "    </tr>\n",
       "    <tr>\n",
       "      <th>247</th>\n",
       "      <td>192.9038</td>\n",
       "      <td>0.000518</td>\n",
       "      <td>0</td>\n",
       "    </tr>\n",
       "    <tr>\n",
       "      <th>248</th>\n",
       "      <td>193.3333</td>\n",
       "      <td>0.002226</td>\n",
       "      <td>0</td>\n",
       "    </tr>\n",
       "    <tr>\n",
       "      <th>249</th>\n",
       "      <td>192.2846</td>\n",
       "      <td>-0.005424</td>\n",
       "      <td>0</td>\n",
       "    </tr>\n",
       "  </tbody>\n",
       "</table>\n",
       "<p>250 rows × 3 columns</p>\n",
       "</div>"
      ],
      "text/plain": [
       "        Close   Returns  State\n",
       "0    124.2163       NaN     -1\n",
       "1    125.4975  0.010314      1\n",
       "2    124.1666 -0.010605     -1\n",
       "3    128.7352  0.036794      1\n",
       "4    129.2616  0.004089      0\n",
       "..        ...       ...    ...\n",
       "245  193.3533 -0.005547      0\n",
       "246  192.8040 -0.002841      0\n",
       "247  192.9038  0.000518      0\n",
       "248  193.3333  0.002226      0\n",
       "249  192.2846 -0.005424      0\n",
       "\n",
       "[250 rows x 3 columns]"
      ]
     },
     "execution_count": 15,
     "metadata": {},
     "output_type": "execute_result"
    }
   ],
   "source": [
    "closes_df"
   ]
  },
  {
   "cell_type": "markdown",
   "id": "db1ed5df-6ed7-4e56-8eb9-87916e9dfe9a",
   "metadata": {},
   "source": [
    "Transition Matrix"
   ]
  },
  {
   "cell_type": "code",
   "execution_count": 16,
   "id": "6642e5d4-e6e4-4c96-9846-c8f0fe1fa53b",
   "metadata": {
    "tags": []
   },
   "outputs": [
    {
     "data": {
      "text/plain": [
       "{'Bull': {'Bull': 11, 'Flat': 38, 'Bear': 7},\n",
       " 'Flat': {'Bull': 40, 'Flat': 94, 'Bear': 23},\n",
       " 'Bear': {'Bull': 5, 'Flat': 26, 'Bear': 5}}"
      ]
     },
     "execution_count": 16,
     "metadata": {},
     "output_type": "execute_result"
    }
   ],
   "source": [
    "transition_counts = {'Bull': {'Bull': 0, 'Flat': 0, 'Bear': 0},\n",
    "                     'Flat': {'Bull': 0, 'Flat': 0, 'Bear': 0},\n",
    "                     'Bear': {'Bull': 0, 'Flat': 0, 'Bear': 0}}\n",
    "state_mapping = {1: 'Bull', 0: 'Flat', -1: 'Bear'}\n",
    "\n",
    "for i in range(1, len(closes_df)):\n",
    "    current_state = closes_df.iloc[i]['State']\n",
    "    previous_state = closes_df.iloc[i-1]['State']\n",
    "    transition_counts[state_mapping[previous_state]][state_mapping[current_state]] += 1\n",
    "    \n",
    "transition_counts"
   ]
  },
  {
   "cell_type": "markdown",
   "id": "f3393c38-2f95-4596-ab86-49a816d95d68",
   "metadata": {},
   "source": [
    "Transition Probabilities"
   ]
  },
  {
   "cell_type": "code",
   "execution_count": 17,
   "id": "cbe0e935-9bd0-4ed8-82c6-017f0c488d3d",
   "metadata": {
    "tags": []
   },
   "outputs": [
    {
     "data": {
      "text/plain": [
       "{'Bull': {'Bull': 0.19642857142857142,\n",
       "  'Flat': 0.6785714285714286,\n",
       "  'Bear': 0.125},\n",
       " 'Flat': {'Bull': 0.25477707006369427,\n",
       "  'Flat': 0.5987261146496815,\n",
       "  'Bear': 0.1464968152866242},\n",
       " 'Bear': {'Bull': 0.1388888888888889,\n",
       "  'Flat': 0.7222222222222222,\n",
       "  'Bear': 0.1388888888888889}}"
      ]
     },
     "execution_count": 17,
     "metadata": {},
     "output_type": "execute_result"
    }
   ],
   "source": [
    "transition_probabilities = {}\n",
    "for origin_state, transitions in transition_counts.items():\n",
    "    total_transitions = sum(transitions.values())\n",
    "    # Normalize the transition counts by the total transitions from each state to calculate probabilities\n",
    "    transition_probabilities[origin_state] = {target_state: count / total_transitions for target_state, count in transitions.items() if total_transitions > 0}\n",
    "\n",
    "transition_probabilities"
   ]
  },
  {
   "cell_type": "markdown",
   "id": "a677f9e6-2ac2-4f32-acb8-c258a3446619",
   "metadata": {},
   "source": [
    "Portfolio Value and Buy Indices"
   ]
  },
  {
   "cell_type": "code",
   "execution_count": 19,
   "id": "f6506ded-8c8e-4422-8cb1-73c2825a0dd7",
   "metadata": {
    "tags": []
   },
   "outputs": [
    {
     "name": "stdout",
     "output_type": "stream",
     "text": [
      "Portfolio Value =  17\n",
      "Buy Indices:  [6, 8, 12, 16, 21, 28, 30, 41, 50, 52, 59, 61, 69, 79, 85, 88, 94, 100, 103, 108, 110, 113, 117, 120, 123, 133, 142, 160, 164, 177, 187, 191, 207, 209, 212, 216, 218, 232, 234, 238]\n"
     ]
    }
   ],
   "source": [
    "portfolio_value = 0\n",
    "buy_indices = []\n",
    "\n",
    "for i in range(1, len(closes_df) - 1):\n",
    "    current_state = closes_df.iloc[i]['State']\n",
    "    next_state = closes_df.iloc[i+1]['State']\n",
    "    if current_state == 0 and next_state == 1:  # Flat to Bull transition\n",
    "        portfolio_value += 1\n",
    "        buy_indices.append(i+1)\n",
    "    elif current_state == 0 and next_state == -1:  # Flat to Bear transition\n",
    "        portfolio_value -= 1\n",
    "\n",
    "print(\"Portfolio Value = \", portfolio_value)\n",
    "print(\"Buy Indices: \", buy_indices)"
   ]
  }
 ],
 "metadata": {
  "kernelspec": {
   "display_name": "Python 3.9",
   "language": "python",
   "name": "python3"
  },
  "language_info": {
   "codemirror_mode": {
    "name": "ipython",
    "version": 3
   },
   "file_extension": ".py",
   "mimetype": "text/x-python",
   "name": "python",
   "nbconvert_exporter": "python",
   "pygments_lexer": "ipython3",
   "version": "3.9.12"
  }
 },
 "nbformat": 4,
 "nbformat_minor": 5
}
